{
 "cells": [
  {
   "metadata": {
    "collapsed": true,
    "ExecuteTime": {
     "end_time": "2024-09-08T07:02:30.022042Z",
     "start_time": "2024-09-08T07:02:29.948043Z"
    }
   },
   "cell_type": "code",
   "source": [
    "from tictactoe import TicTacToe\n",
    "from tictactoetrainer import TicTacToeTrainer\n",
    "\n",
    "board = TicTacToe()\n",
    "\n",
    "print(board)"
   ],
   "id": "initial_id",
   "outputs": [
    {
     "name": "stdout",
     "output_type": "stream",
     "text": [
      "    |     |   \n",
      "---------------\n",
      "    |     |   \n",
      "---------------\n",
      "    |     |   \n",
      "\n"
     ]
    }
   ],
   "execution_count": 1
  },
  {
   "metadata": {
    "ExecuteTime": {
     "end_time": "2024-09-08T07:02:30.052043Z",
     "start_time": "2024-09-08T07:02:30.037044Z"
    }
   },
   "cell_type": "code",
   "source": [
    "board.make_move(\"X\", 4)\n",
    "print(board)"
   ],
   "id": "2a215da9d33898af",
   "outputs": [
    {
     "name": "stdout",
     "output_type": "stream",
     "text": [
      "    |     |   \n",
      "---------------\n",
      "    |  X  |   \n",
      "---------------\n",
      "    |     |   \n",
      "\n"
     ]
    }
   ],
   "execution_count": 2
  },
  {
   "metadata": {
    "ExecuteTime": {
     "end_time": "2024-09-08T07:02:30.223043Z",
     "start_time": "2024-09-08T07:02:30.209043Z"
    }
   },
   "cell_type": "code",
   "source": [
    "board.make_move(\"O\", 0)\n",
    "print(board)"
   ],
   "id": "6ecb4d8fdb89a7d9",
   "outputs": [
    {
     "name": "stdout",
     "output_type": "stream",
     "text": [
      " O  |     |   \n",
      "---------------\n",
      "    |  X  |   \n",
      "---------------\n",
      "    |     |   \n",
      "\n"
     ]
    }
   ],
   "execution_count": 3
  },
  {
   "metadata": {
    "ExecuteTime": {
     "end_time": "2024-09-08T07:02:30.254043Z",
     "start_time": "2024-09-08T07:02:30.239042Z"
    }
   },
   "cell_type": "code",
   "source": [
    "board.make_move(\"X\", 3)\n",
    "print(board)"
   ],
   "id": "8259c115b929e44c",
   "outputs": [
    {
     "name": "stdout",
     "output_type": "stream",
     "text": [
      " O  |     |   \n",
      "---------------\n",
      " X  |  X  |   \n",
      "---------------\n",
      "    |     |   \n",
      "\n"
     ]
    }
   ],
   "execution_count": 4
  },
  {
   "metadata": {
    "ExecuteTime": {
     "end_time": "2024-09-08T07:02:30.286043Z",
     "start_time": "2024-09-08T07:02:30.271046Z"
    }
   },
   "cell_type": "code",
   "source": [
    "board.make_move(\"O\", 1)\n",
    "print(board)"
   ],
   "id": "1cacdf2f51e5ee04",
   "outputs": [
    {
     "name": "stdout",
     "output_type": "stream",
     "text": [
      " O  |  O  |   \n",
      "---------------\n",
      " X  |  X  |   \n",
      "---------------\n",
      "    |     |   \n",
      "\n"
     ]
    }
   ],
   "execution_count": 5
  },
  {
   "metadata": {
    "ExecuteTime": {
     "end_time": "2024-09-08T07:02:30.317043Z",
     "start_time": "2024-09-08T07:02:30.302044Z"
    }
   },
   "cell_type": "code",
   "source": [
    "board.make_move(\"X\", 5)\n",
    "print(board)"
   ],
   "id": "666e9970396b9b75",
   "outputs": [
    {
     "name": "stdout",
     "output_type": "stream",
     "text": [
      " O  |  O  |   \n",
      "---------------\n",
      " X  |  X  |  X\n",
      "---------------\n",
      "    |     |   \n",
      "\n"
     ]
    }
   ],
   "execution_count": 6
  },
  {
   "metadata": {
    "ExecuteTime": {
     "end_time": "2024-09-08T07:04:09.326297Z",
     "start_time": "2024-09-08T07:02:30.333047Z"
    }
   },
   "cell_type": "code",
   "source": [
    "trainer = TicTacToeTrainer()\n",
    "trainer.play_multiplayer()"
   ],
   "id": "a78b052cbf4572",
   "outputs": [
    {
     "name": "stdout",
     "output_type": "stream",
     "text": [
      "Hello, welcome to TicTacToe\n",
      "The placement indices are numbered from 0 to 8 and read left to right\n",
      "The Current Board is:\n",
      "    |     |   \n",
      "---------------\n",
      "    |     |   \n",
      "---------------\n",
      "    |     |   \n",
      "\n",
      "Player X won the Game!\n"
     ]
    },
    {
     "name": "stderr",
     "output_type": "stream",
     "text": [
      "IOPub data rate exceeded.\n",
      "The Jupyter server will temporarily stop sending output\n",
      "to the client in order to avoid crashing it.\n",
      "To change this limit, set the config variable\n",
      "`--ServerApp.iopub_data_rate_limit`.\n",
      "\n",
      "Current values:\n",
      "ServerApp.iopub_data_rate_limit=1000000.0 (bytes/sec)\n",
      "ServerApp.rate_limit_window=3.0 (secs)\n",
      "\n"
     ]
    },
    {
     "ename": "KeyboardInterrupt",
     "evalue": "",
     "output_type": "error",
     "traceback": [
      "\u001B[1;31m---------------------------------------------------------------------------\u001B[0m",
      "\u001B[1;31mValueError\u001B[0m                                Traceback (most recent call last)",
      "File \u001B[1;32m~\\PycharmProjects\\TicTacToe\\tictactoetrainer.py:26\u001B[0m, in \u001B[0;36mTicTacToeTrainer._select_location_input\u001B[1;34m(self, player)\u001B[0m\n\u001B[0;32m     25\u001B[0m \u001B[38;5;28;01mtry\u001B[39;00m:\n\u001B[1;32m---> 26\u001B[0m     rtn_val \u001B[38;5;241m=\u001B[39m \u001B[38;5;28mself\u001B[39m\u001B[38;5;241m.\u001B[39mboard\u001B[38;5;241m.\u001B[39mmake_move(player, \u001B[38;5;28;43mint\u001B[39;49m\u001B[43m(\u001B[49m\u001B[43mloc\u001B[49m\u001B[43m)\u001B[49m)\n\u001B[0;32m     27\u001B[0m     input_accepted \u001B[38;5;241m=\u001B[39m \u001B[38;5;28;01mTrue\u001B[39;00m\n",
      "\u001B[1;31mValueError\u001B[0m: invalid literal for int() with base 10: ''",
      "\nDuring handling of the above exception, another exception occurred:\n",
      "\u001B[1;31mKeyboardInterrupt\u001B[0m                         Traceback (most recent call last)",
      "Cell \u001B[1;32mIn[7], line 2\u001B[0m\n\u001B[0;32m      1\u001B[0m trainer \u001B[38;5;241m=\u001B[39m TicTacToeTrainer()\n\u001B[1;32m----> 2\u001B[0m \u001B[43mtrainer\u001B[49m\u001B[38;5;241;43m.\u001B[39;49m\u001B[43mplay_multiplayer\u001B[49m\u001B[43m(\u001B[49m\u001B[43m)\u001B[49m\n",
      "File \u001B[1;32m~\\PycharmProjects\\TicTacToe\\tictactoetrainer.py:46\u001B[0m, in \u001B[0;36mTicTacToeTrainer.play_multiplayer\u001B[1;34m(self)\u001B[0m\n\u001B[0;32m     44\u001B[0m \u001B[38;5;28mprint\u001B[39m(\u001B[38;5;28mself\u001B[39m\u001B[38;5;241m.\u001B[39mboard)\n\u001B[0;32m     45\u001B[0m game_condition \u001B[38;5;241m=\u001B[39m \u001B[38;5;28mself\u001B[39m\u001B[38;5;241m.\u001B[39m_select_location_input(current_player)\n\u001B[1;32m---> 46\u001B[0m \u001B[38;5;28;01mif\u001B[39;00m game_condition \u001B[38;5;241m==\u001B[39m \u001B[38;5;241m0\u001B[39m:\n\u001B[0;32m     47\u001B[0m     game_is_over \u001B[38;5;241m=\u001B[39m \u001B[38;5;28;01mTrue\u001B[39;00m\n\u001B[0;32m     48\u001B[0m     \u001B[38;5;28mprint\u001B[39m(\u001B[38;5;124m\"\u001B[39m\u001B[38;5;124mThe Game was a draw!\u001B[39m\u001B[38;5;124m\"\u001B[39m)\n",
      "File \u001B[1;32m~\\PycharmProjects\\TicTacToe\\tictactoetrainer.py:29\u001B[0m, in \u001B[0;36mTicTacToeTrainer._select_location_input\u001B[1;34m(self, player)\u001B[0m\n\u001B[0;32m     27\u001B[0m         input_accepted \u001B[38;5;241m=\u001B[39m \u001B[38;5;28;01mTrue\u001B[39;00m\n\u001B[0;32m     28\u001B[0m     \u001B[38;5;28;01mexcept\u001B[39;00m \u001B[38;5;167;01mValueError\u001B[39;00m:\n\u001B[1;32m---> 29\u001B[0m         \u001B[38;5;28;43mprint\u001B[39;49m\u001B[43m(\u001B[49m\u001B[38;5;124;43m\"\u001B[39;49m\u001B[38;5;124;43mThat was not a valid move! Please enter a valid index 0 through 8 that is not occupied\u001B[39;49m\u001B[38;5;124;43m\"\u001B[39;49m\u001B[43m)\u001B[49m\n\u001B[0;32m     30\u001B[0m \u001B[38;5;28;01mreturn\u001B[39;00m rtn_val\n",
      "File \u001B[1;32m~\\PycharmProjects\\TicTacToe\\.venv\\lib\\site-packages\\ipykernel\\iostream.py:664\u001B[0m, in \u001B[0;36mOutStream.write\u001B[1;34m(self, string)\u001B[0m\n\u001B[0;32m    655\u001B[0m \u001B[38;5;28;01mdef\u001B[39;00m \u001B[38;5;21mwrite\u001B[39m(\u001B[38;5;28mself\u001B[39m, string: \u001B[38;5;28mstr\u001B[39m) \u001B[38;5;241m-\u001B[39m\u001B[38;5;241m>\u001B[39m Optional[\u001B[38;5;28mint\u001B[39m]:  \u001B[38;5;66;03m# type:ignore[override]\u001B[39;00m\n\u001B[0;32m    656\u001B[0m \u001B[38;5;250m    \u001B[39m\u001B[38;5;124;03m\"\"\"Write to current stream after encoding if necessary\u001B[39;00m\n\u001B[0;32m    657\u001B[0m \n\u001B[0;32m    658\u001B[0m \u001B[38;5;124;03m    Returns\u001B[39;00m\n\u001B[1;32m   (...)\u001B[0m\n\u001B[0;32m    662\u001B[0m \n\u001B[0;32m    663\u001B[0m \u001B[38;5;124;03m    \"\"\"\u001B[39;00m\n\u001B[1;32m--> 664\u001B[0m     parent \u001B[38;5;241m=\u001B[39m \u001B[38;5;28;43mself\u001B[39;49m\u001B[38;5;241;43m.\u001B[39;49m\u001B[43mparent_header\u001B[49m\n\u001B[0;32m    666\u001B[0m     \u001B[38;5;28;01mif\u001B[39;00m \u001B[38;5;129;01mnot\u001B[39;00m \u001B[38;5;28misinstance\u001B[39m(string, \u001B[38;5;28mstr\u001B[39m):\n\u001B[0;32m    667\u001B[0m         msg \u001B[38;5;241m=\u001B[39m \u001B[38;5;124mf\u001B[39m\u001B[38;5;124m\"\u001B[39m\u001B[38;5;124mwrite() argument must be str, not \u001B[39m\u001B[38;5;132;01m{\u001B[39;00m\u001B[38;5;28mtype\u001B[39m(string)\u001B[38;5;132;01m}\u001B[39;00m\u001B[38;5;124m\"\u001B[39m  \u001B[38;5;66;03m# type:ignore[unreachable]\u001B[39;00m\n",
      "File \u001B[1;32m~\\PycharmProjects\\TicTacToe\\.venv\\lib\\site-packages\\ipykernel\\iostream.py:509\u001B[0m, in \u001B[0;36mOutStream.parent_header\u001B[1;34m(self)\u001B[0m\n\u001B[0;32m    505\u001B[0m \u001B[38;5;129m@property\u001B[39m\n\u001B[0;32m    506\u001B[0m \u001B[38;5;28;01mdef\u001B[39;00m \u001B[38;5;21mparent_header\u001B[39m(\u001B[38;5;28mself\u001B[39m):\n\u001B[0;32m    507\u001B[0m     \u001B[38;5;28;01mtry\u001B[39;00m:\n\u001B[0;32m    508\u001B[0m         \u001B[38;5;66;03m# asyncio-specific\u001B[39;00m\n\u001B[1;32m--> 509\u001B[0m         \u001B[38;5;28;01mreturn\u001B[39;00m \u001B[38;5;28;43mself\u001B[39;49m\u001B[38;5;241;43m.\u001B[39;49m\u001B[43m_parent_header\u001B[49m\u001B[38;5;241m.\u001B[39mget()\n\u001B[0;32m    510\u001B[0m     \u001B[38;5;28;01mexcept\u001B[39;00m \u001B[38;5;167;01mLookupError\u001B[39;00m:\n\u001B[0;32m    511\u001B[0m         \u001B[38;5;28;01mtry\u001B[39;00m:\n\u001B[0;32m    512\u001B[0m             \u001B[38;5;66;03m# thread-specific\u001B[39;00m\n",
      "\u001B[1;31mKeyboardInterrupt\u001B[0m: "
     ]
    }
   ],
   "execution_count": 7
  }
 ],
 "metadata": {
  "kernelspec": {
   "display_name": "Python 3",
   "language": "python",
   "name": "python3"
  },
  "language_info": {
   "codemirror_mode": {
    "name": "ipython",
    "version": 2
   },
   "file_extension": ".py",
   "mimetype": "text/x-python",
   "name": "python",
   "nbconvert_exporter": "python",
   "pygments_lexer": "ipython2",
   "version": "2.7.6"
  }
 },
 "nbformat": 4,
 "nbformat_minor": 5
}
